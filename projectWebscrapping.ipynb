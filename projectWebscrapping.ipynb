{
 "cells": [
  {
   "cell_type": "code",
   "execution_count": 1,
   "metadata": {},
   "outputs": [],
   "source": [
    "import numpy as np\n",
    "import pandas as pd\n",
    "\n",
    "import requests\n",
    "from bs4 import BeautifulSoup"
   ]
  },
  {
   "cell_type": "code",
   "execution_count": 2,
   "metadata": {},
   "outputs": [],
   "source": [
    "title = []\n",
    "buy_price = []\n",
    "org_price = []\n",
    "offer = []\n",
    "\n",
    "for i in range(1, 16):\n",
    "    URL = 'https://paytmmall.com/shop/search?q=touch%20mobile%20phones&from=organic&child_site_id=6&site_id=2&category=66781&page={}'.format(i)\n",
    "    page = requests.get(URL)\n",
    "    htmlcode = page.text\n",
    "    soup = BeautifulSoup(htmlcode)\n",
    "    \n",
    "    for x in soup.find_all('div', attrs={'class' : '_2i1r'}):\n",
    "        \n",
    "        product = x.find('div', attrs={'class' : 'UGUy'})\n",
    "        if product is None:\n",
    "            title.append(np.NaN)\n",
    "        else:\n",
    "            title.append(product.text)\n",
    "            \n",
    "        order_value = x.find('div', attrs={'class' : '_1kMS'})\n",
    "        if order_value is None:\n",
    "            buy_price.append(np.NaN)\n",
    "        else:\n",
    "            buy_price.append(order_value.text)\n",
    "            \n",
    "        actual_price = x.find('div', attrs={'class' : 'dQm2'})\n",
    "        if actual_price is None:\n",
    "            org_price.append(np.NaN)\n",
    "        else:\n",
    "            org_price.append(actual_price.text)\n",
    "            \n",
    "        savings = x.find('div', attrs={'class' : 'QKgH'})\n",
    "        if savings is None:\n",
    "            offer.append(np.NaN)\n",
    "        else:\n",
    "            offer.append(savings.text)"
   ]
  },
  {
   "cell_type": "code",
   "execution_count": 3,
   "metadata": {},
   "outputs": [
    {
     "name": "stdout",
     "output_type": "stream",
     "text": [
      "333\n",
      "333\n",
      "333\n",
      "333\n"
     ]
    }
   ],
   "source": [
    "print(len(title))\n",
    "print(len(buy_price))\n",
    "print(len(org_price))\n",
    "print(len(offer))"
   ]
  },
  {
   "cell_type": "markdown",
   "metadata": {},
   "source": [
    "## Creating a DataFrame With The Above Details And Saving in csv File"
   ]
  },
  {
   "cell_type": "code",
   "execution_count": 4,
   "metadata": {},
   "outputs": [],
   "source": [
    "df = pd.DataFrame({'Products' : title, 'Actual Mrp' : org_price, 'Final Mrp' : buy_price, 'Savings Amount' : offer})"
   ]
  },
  {
   "cell_type": "code",
   "execution_count": 5,
   "metadata": {},
   "outputs": [
    {
     "data": {
      "text/html": [
       "<div>\n",
       "<style scoped>\n",
       "    .dataframe tbody tr th:only-of-type {\n",
       "        vertical-align: middle;\n",
       "    }\n",
       "\n",
       "    .dataframe tbody tr th {\n",
       "        vertical-align: top;\n",
       "    }\n",
       "\n",
       "    .dataframe thead th {\n",
       "        text-align: right;\n",
       "    }\n",
       "</style>\n",
       "<table border=\"1\" class=\"dataframe\">\n",
       "  <thead>\n",
       "    <tr style=\"text-align: right;\">\n",
       "      <th></th>\n",
       "      <th>Products</th>\n",
       "      <th>Actual Mrp</th>\n",
       "      <th>Final Mrp</th>\n",
       "      <th>Savings Amount</th>\n",
       "    </tr>\n",
       "  </thead>\n",
       "  <tbody>\n",
       "    <tr>\n",
       "      <th>0</th>\n",
       "      <td>Vivo Y20 4 GB 64 GB Purist Blue</td>\n",
       "      <td>16,990-24%</td>\n",
       "      <td>12,990</td>\n",
       "      <td>NaN</td>\n",
       "    </tr>\n",
       "    <tr>\n",
       "      <th>1</th>\n",
       "      <td>OPPO Reno6 Pro 5G 12 GB 256 GB Stellar Black</td>\n",
       "      <td>46,999-15%</td>\n",
       "      <td>39,980</td>\n",
       "      <td>NaN</td>\n",
       "    </tr>\n",
       "    <tr>\n",
       "      <th>2</th>\n",
       "      <td>Realme C25s 4 GB 128 GB Watery Grey</td>\n",
       "      <td>12,999-1%</td>\n",
       "      <td>12,897</td>\n",
       "      <td>NaN</td>\n",
       "    </tr>\n",
       "    <tr>\n",
       "      <th>3</th>\n",
       "      <td>Redmi 9 4 GB 64 GB Sky Blue</td>\n",
       "      <td>10,999-3%</td>\n",
       "      <td>10,699</td>\n",
       "      <td>NaN</td>\n",
       "    </tr>\n",
       "    <tr>\n",
       "      <th>4</th>\n",
       "      <td>Samsung Galaxy A22 5G 6 GB 128 GB Mint</td>\n",
       "      <td>22,499-11%</td>\n",
       "      <td>19,999</td>\n",
       "      <td>NaN</td>\n",
       "    </tr>\n",
       "  </tbody>\n",
       "</table>\n",
       "</div>"
      ],
      "text/plain": [
       "                                       Products  Actual Mrp Final Mrp  \\\n",
       "0               Vivo Y20 4 GB 64 GB Purist Blue  16,990-24%    12,990   \n",
       "1  OPPO Reno6 Pro 5G 12 GB 256 GB Stellar Black  46,999-15%    39,980   \n",
       "2           Realme C25s 4 GB 128 GB Watery Grey   12,999-1%    12,897   \n",
       "3                   Redmi 9 4 GB 64 GB Sky Blue   10,999-3%    10,699   \n",
       "4        Samsung Galaxy A22 5G 6 GB 128 GB Mint  22,499-11%    19,999   \n",
       "\n",
       "   Savings Amount  \n",
       "0             NaN  \n",
       "1             NaN  \n",
       "2             NaN  \n",
       "3             NaN  \n",
       "4             NaN  "
      ]
     },
     "execution_count": 5,
     "metadata": {},
     "output_type": "execute_result"
    }
   ],
   "source": [
    "df.head()"
   ]
  },
  {
   "cell_type": "code",
   "execution_count": 6,
   "metadata": {},
   "outputs": [
    {
     "data": {
      "text/plain": [
       "(333, 4)"
      ]
     },
     "execution_count": 6,
     "metadata": {},
     "output_type": "execute_result"
    }
   ],
   "source": [
    "df.shape"
   ]
  },
  {
   "cell_type": "code",
   "execution_count": 7,
   "metadata": {},
   "outputs": [
    {
     "name": "stdout",
     "output_type": "stream",
     "text": [
      "<class 'pandas.core.frame.DataFrame'>\n",
      "RangeIndex: 333 entries, 0 to 332\n",
      "Data columns (total 4 columns):\n",
      " #   Column          Non-Null Count  Dtype  \n",
      "---  ------          --------------  -----  \n",
      " 0   Products        333 non-null    object \n",
      " 1   Actual Mrp      292 non-null    object \n",
      " 2   Final Mrp       333 non-null    object \n",
      " 3   Savings Amount  0 non-null      float64\n",
      "dtypes: float64(1), object(3)\n",
      "memory usage: 10.5+ KB\n"
     ]
    }
   ],
   "source": [
    "df.info()"
   ]
  },
  {
   "cell_type": "code",
   "execution_count": 8,
   "metadata": {},
   "outputs": [],
   "source": [
    "df.to_csv('PaytmMobile_Details.csv', index = False)"
   ]
  },
  {
   "cell_type": "code",
   "execution_count": 9,
   "metadata": {},
   "outputs": [
    {
     "data": {
      "text/html": [
       "<div>\n",
       "<style scoped>\n",
       "    .dataframe tbody tr th:only-of-type {\n",
       "        vertical-align: middle;\n",
       "    }\n",
       "\n",
       "    .dataframe tbody tr th {\n",
       "        vertical-align: top;\n",
       "    }\n",
       "\n",
       "    .dataframe thead th {\n",
       "        text-align: right;\n",
       "    }\n",
       "</style>\n",
       "<table border=\"1\" class=\"dataframe\">\n",
       "  <thead>\n",
       "    <tr style=\"text-align: right;\">\n",
       "      <th></th>\n",
       "      <th>Products</th>\n",
       "      <th>Actual Mrp</th>\n",
       "      <th>Final Mrp</th>\n",
       "      <th>Savings Amount</th>\n",
       "    </tr>\n",
       "  </thead>\n",
       "  <tbody>\n",
       "    <tr>\n",
       "      <th>0</th>\n",
       "      <td>Vivo Y20 4 GB 64 GB Purist Blue</td>\n",
       "      <td>16,990-24%</td>\n",
       "      <td>12,990</td>\n",
       "      <td>NaN</td>\n",
       "    </tr>\n",
       "    <tr>\n",
       "      <th>1</th>\n",
       "      <td>OPPO Reno6 Pro 5G 12 GB 256 GB Stellar Black</td>\n",
       "      <td>46,999-15%</td>\n",
       "      <td>39,980</td>\n",
       "      <td>NaN</td>\n",
       "    </tr>\n",
       "    <tr>\n",
       "      <th>2</th>\n",
       "      <td>Realme C25s 4 GB 128 GB Watery Grey</td>\n",
       "      <td>12,999-1%</td>\n",
       "      <td>12,897</td>\n",
       "      <td>NaN</td>\n",
       "    </tr>\n",
       "    <tr>\n",
       "      <th>3</th>\n",
       "      <td>Redmi 9 4 GB 64 GB Sky Blue</td>\n",
       "      <td>10,999-3%</td>\n",
       "      <td>10,699</td>\n",
       "      <td>NaN</td>\n",
       "    </tr>\n",
       "    <tr>\n",
       "      <th>4</th>\n",
       "      <td>Samsung Galaxy A22 5G 6 GB 128 GB Mint</td>\n",
       "      <td>22,499-11%</td>\n",
       "      <td>19,999</td>\n",
       "      <td>NaN</td>\n",
       "    </tr>\n",
       "  </tbody>\n",
       "</table>\n",
       "</div>"
      ],
      "text/plain": [
       "                                       Products  Actual Mrp Final Mrp  \\\n",
       "0               Vivo Y20 4 GB 64 GB Purist Blue  16,990-24%    12,990   \n",
       "1  OPPO Reno6 Pro 5G 12 GB 256 GB Stellar Black  46,999-15%    39,980   \n",
       "2           Realme C25s 4 GB 128 GB Watery Grey   12,999-1%    12,897   \n",
       "3                   Redmi 9 4 GB 64 GB Sky Blue   10,999-3%    10,699   \n",
       "4        Samsung Galaxy A22 5G 6 GB 128 GB Mint  22,499-11%    19,999   \n",
       "\n",
       "   Savings Amount  \n",
       "0             NaN  \n",
       "1             NaN  \n",
       "2             NaN  \n",
       "3             NaN  \n",
       "4             NaN  "
      ]
     },
     "execution_count": 9,
     "metadata": {},
     "output_type": "execute_result"
    }
   ],
   "source": [
    "df = pd.read_csv('PaytmMobile_Details.csv')\n",
    "\n",
    "df.head()"
   ]
  },
  {
   "cell_type": "markdown",
   "metadata": {},
   "source": [
    "## Extracting Details Using Regex"
   ]
  },
  {
   "cell_type": "code",
   "execution_count": 10,
   "metadata": {},
   "outputs": [],
   "source": [
    "import re"
   ]
  },
  {
   "cell_type": "code",
   "execution_count": 11,
   "metadata": {},
   "outputs": [
    {
     "data": {
      "text/html": [
       "<div>\n",
       "<style scoped>\n",
       "    .dataframe tbody tr th:only-of-type {\n",
       "        vertical-align: middle;\n",
       "    }\n",
       "\n",
       "    .dataframe tbody tr th {\n",
       "        vertical-align: top;\n",
       "    }\n",
       "\n",
       "    .dataframe thead th {\n",
       "        text-align: right;\n",
       "    }\n",
       "</style>\n",
       "<table border=\"1\" class=\"dataframe\">\n",
       "  <thead>\n",
       "    <tr style=\"text-align: right;\">\n",
       "      <th></th>\n",
       "      <th>Products</th>\n",
       "      <th>Actual Mrp</th>\n",
       "      <th>Final Mrp</th>\n",
       "      <th>Savings Amount</th>\n",
       "      <th>Storage</th>\n",
       "    </tr>\n",
       "  </thead>\n",
       "  <tbody>\n",
       "    <tr>\n",
       "      <th>0</th>\n",
       "      <td>Vivo Y20 4 GB 64 GB Purist Blue</td>\n",
       "      <td>16,990-24%</td>\n",
       "      <td>12,990</td>\n",
       "      <td>NaN</td>\n",
       "      <td>[4 GB, 64 GB]</td>\n",
       "    </tr>\n",
       "    <tr>\n",
       "      <th>1</th>\n",
       "      <td>OPPO Reno6 Pro 5G 12 GB 256 GB Stellar Black</td>\n",
       "      <td>46,999-15%</td>\n",
       "      <td>39,980</td>\n",
       "      <td>NaN</td>\n",
       "      <td>[12 GB, 256 GB]</td>\n",
       "    </tr>\n",
       "    <tr>\n",
       "      <th>2</th>\n",
       "      <td>Realme C25s 4 GB 128 GB Watery Grey</td>\n",
       "      <td>12,999-1%</td>\n",
       "      <td>12,897</td>\n",
       "      <td>NaN</td>\n",
       "      <td>[4 GB, 128 GB]</td>\n",
       "    </tr>\n",
       "    <tr>\n",
       "      <th>3</th>\n",
       "      <td>Redmi 9 4 GB 64 GB Sky Blue</td>\n",
       "      <td>10,999-3%</td>\n",
       "      <td>10,699</td>\n",
       "      <td>NaN</td>\n",
       "      <td>[4 GB, 64 GB]</td>\n",
       "    </tr>\n",
       "    <tr>\n",
       "      <th>4</th>\n",
       "      <td>Samsung Galaxy A22 5G 6 GB 128 GB Mint</td>\n",
       "      <td>22,499-11%</td>\n",
       "      <td>19,999</td>\n",
       "      <td>NaN</td>\n",
       "      <td>[6 GB, 128 GB]</td>\n",
       "    </tr>\n",
       "  </tbody>\n",
       "</table>\n",
       "</div>"
      ],
      "text/plain": [
       "                                       Products  Actual Mrp Final Mrp  \\\n",
       "0               Vivo Y20 4 GB 64 GB Purist Blue  16,990-24%    12,990   \n",
       "1  OPPO Reno6 Pro 5G 12 GB 256 GB Stellar Black  46,999-15%    39,980   \n",
       "2           Realme C25s 4 GB 128 GB Watery Grey   12,999-1%    12,897   \n",
       "3                   Redmi 9 4 GB 64 GB Sky Blue   10,999-3%    10,699   \n",
       "4        Samsung Galaxy A22 5G 6 GB 128 GB Mint  22,499-11%    19,999   \n",
       "\n",
       "   Savings Amount          Storage  \n",
       "0             NaN    [4 GB, 64 GB]  \n",
       "1             NaN  [12 GB, 256 GB]  \n",
       "2             NaN   [4 GB, 128 GB]  \n",
       "3             NaN    [4 GB, 64 GB]  \n",
       "4             NaN   [6 GB, 128 GB]  "
      ]
     },
     "execution_count": 11,
     "metadata": {},
     "output_type": "execute_result"
    }
   ],
   "source": [
    "regex = r'\\d+\\sGB'\n",
    "df['Storage'] = df['Products'].apply(lambda x : re.findall(regex, x))\n",
    "\n",
    "df.head()"
   ]
  },
  {
   "cell_type": "code",
   "execution_count": 12,
   "metadata": {},
   "outputs": [
    {
     "data": {
      "text/html": [
       "<div>\n",
       "<style scoped>\n",
       "    .dataframe tbody tr th:only-of-type {\n",
       "        vertical-align: middle;\n",
       "    }\n",
       "\n",
       "    .dataframe tbody tr th {\n",
       "        vertical-align: top;\n",
       "    }\n",
       "\n",
       "    .dataframe thead th {\n",
       "        text-align: right;\n",
       "    }\n",
       "</style>\n",
       "<table border=\"1\" class=\"dataframe\">\n",
       "  <thead>\n",
       "    <tr style=\"text-align: right;\">\n",
       "      <th></th>\n",
       "      <th>Products</th>\n",
       "      <th>Actual Mrp</th>\n",
       "      <th>Final Mrp</th>\n",
       "      <th>Savings Amount</th>\n",
       "      <th>Storage</th>\n",
       "      <th>Brand</th>\n",
       "    </tr>\n",
       "  </thead>\n",
       "  <tbody>\n",
       "    <tr>\n",
       "      <th>0</th>\n",
       "      <td>Vivo Y20 4 GB 64 GB Purist Blue</td>\n",
       "      <td>16,990-24%</td>\n",
       "      <td>12,990</td>\n",
       "      <td>NaN</td>\n",
       "      <td>[4 GB, 64 GB]</td>\n",
       "      <td>[Vivo]</td>\n",
       "    </tr>\n",
       "    <tr>\n",
       "      <th>1</th>\n",
       "      <td>OPPO Reno6 Pro 5G 12 GB 256 GB Stellar Black</td>\n",
       "      <td>46,999-15%</td>\n",
       "      <td>39,980</td>\n",
       "      <td>NaN</td>\n",
       "      <td>[12 GB, 256 GB]</td>\n",
       "      <td>[OPPO]</td>\n",
       "    </tr>\n",
       "    <tr>\n",
       "      <th>2</th>\n",
       "      <td>Realme C25s 4 GB 128 GB Watery Grey</td>\n",
       "      <td>12,999-1%</td>\n",
       "      <td>12,897</td>\n",
       "      <td>NaN</td>\n",
       "      <td>[4 GB, 128 GB]</td>\n",
       "      <td>[Realme]</td>\n",
       "    </tr>\n",
       "    <tr>\n",
       "      <th>3</th>\n",
       "      <td>Redmi 9 4 GB 64 GB Sky Blue</td>\n",
       "      <td>10,999-3%</td>\n",
       "      <td>10,699</td>\n",
       "      <td>NaN</td>\n",
       "      <td>[4 GB, 64 GB]</td>\n",
       "      <td>[Redmi]</td>\n",
       "    </tr>\n",
       "    <tr>\n",
       "      <th>4</th>\n",
       "      <td>Samsung Galaxy A22 5G 6 GB 128 GB Mint</td>\n",
       "      <td>22,499-11%</td>\n",
       "      <td>19,999</td>\n",
       "      <td>NaN</td>\n",
       "      <td>[6 GB, 128 GB]</td>\n",
       "      <td>[Samsung]</td>\n",
       "    </tr>\n",
       "  </tbody>\n",
       "</table>\n",
       "</div>"
      ],
      "text/plain": [
       "                                       Products  Actual Mrp Final Mrp  \\\n",
       "0               Vivo Y20 4 GB 64 GB Purist Blue  16,990-24%    12,990   \n",
       "1  OPPO Reno6 Pro 5G 12 GB 256 GB Stellar Black  46,999-15%    39,980   \n",
       "2           Realme C25s 4 GB 128 GB Watery Grey   12,999-1%    12,897   \n",
       "3                   Redmi 9 4 GB 64 GB Sky Blue   10,999-3%    10,699   \n",
       "4        Samsung Galaxy A22 5G 6 GB 128 GB Mint  22,499-11%    19,999   \n",
       "\n",
       "   Savings Amount          Storage      Brand  \n",
       "0             NaN    [4 GB, 64 GB]     [Vivo]  \n",
       "1             NaN  [12 GB, 256 GB]     [OPPO]  \n",
       "2             NaN   [4 GB, 128 GB]   [Realme]  \n",
       "3             NaN    [4 GB, 64 GB]    [Redmi]  \n",
       "4             NaN   [6 GB, 128 GB]  [Samsung]  "
      ]
     },
     "execution_count": 12,
     "metadata": {},
     "output_type": "execute_result"
    }
   ],
   "source": [
    "regex = r'^\\w+'\n",
    "\n",
    "df['Brand'] = df['Products'].apply(lambda x : re.findall(regex, x))\n",
    "\n",
    "df.head()"
   ]
  },
  {
   "cell_type": "code",
   "execution_count": 13,
   "metadata": {},
   "outputs": [
    {
     "data": {
      "text/html": [
       "<div>\n",
       "<style scoped>\n",
       "    .dataframe tbody tr th:only-of-type {\n",
       "        vertical-align: middle;\n",
       "    }\n",
       "\n",
       "    .dataframe tbody tr th {\n",
       "        vertical-align: top;\n",
       "    }\n",
       "\n",
       "    .dataframe thead th {\n",
       "        text-align: right;\n",
       "    }\n",
       "</style>\n",
       "<table border=\"1\" class=\"dataframe\">\n",
       "  <thead>\n",
       "    <tr style=\"text-align: right;\">\n",
       "      <th></th>\n",
       "      <th>Products</th>\n",
       "      <th>Actual Mrp</th>\n",
       "      <th>Final Mrp</th>\n",
       "      <th>Savings Amount</th>\n",
       "      <th>Storage</th>\n",
       "      <th>Brand</th>\n",
       "      <th>Colour</th>\n",
       "    </tr>\n",
       "  </thead>\n",
       "  <tbody>\n",
       "    <tr>\n",
       "      <th>0</th>\n",
       "      <td>Vivo Y20 4 GB 64 GB Purist Blue</td>\n",
       "      <td>16,990-24%</td>\n",
       "      <td>12,990</td>\n",
       "      <td>NaN</td>\n",
       "      <td>[4 GB, 64 GB]</td>\n",
       "      <td>[Vivo]</td>\n",
       "      <td>[Blue]</td>\n",
       "    </tr>\n",
       "    <tr>\n",
       "      <th>1</th>\n",
       "      <td>OPPO Reno6 Pro 5G 12 GB 256 GB Stellar Black</td>\n",
       "      <td>46,999-15%</td>\n",
       "      <td>39,980</td>\n",
       "      <td>NaN</td>\n",
       "      <td>[12 GB, 256 GB]</td>\n",
       "      <td>[OPPO]</td>\n",
       "      <td>[Black]</td>\n",
       "    </tr>\n",
       "    <tr>\n",
       "      <th>2</th>\n",
       "      <td>Realme C25s 4 GB 128 GB Watery Grey</td>\n",
       "      <td>12,999-1%</td>\n",
       "      <td>12,897</td>\n",
       "      <td>NaN</td>\n",
       "      <td>[4 GB, 128 GB]</td>\n",
       "      <td>[Realme]</td>\n",
       "      <td>[Grey]</td>\n",
       "    </tr>\n",
       "    <tr>\n",
       "      <th>3</th>\n",
       "      <td>Redmi 9 4 GB 64 GB Sky Blue</td>\n",
       "      <td>10,999-3%</td>\n",
       "      <td>10,699</td>\n",
       "      <td>NaN</td>\n",
       "      <td>[4 GB, 64 GB]</td>\n",
       "      <td>[Redmi]</td>\n",
       "      <td>[Blue]</td>\n",
       "    </tr>\n",
       "    <tr>\n",
       "      <th>4</th>\n",
       "      <td>Samsung Galaxy A22 5G 6 GB 128 GB Mint</td>\n",
       "      <td>22,499-11%</td>\n",
       "      <td>19,999</td>\n",
       "      <td>NaN</td>\n",
       "      <td>[6 GB, 128 GB]</td>\n",
       "      <td>[Samsung]</td>\n",
       "      <td>[Mint]</td>\n",
       "    </tr>\n",
       "  </tbody>\n",
       "</table>\n",
       "</div>"
      ],
      "text/plain": [
       "                                       Products  Actual Mrp Final Mrp  \\\n",
       "0               Vivo Y20 4 GB 64 GB Purist Blue  16,990-24%    12,990   \n",
       "1  OPPO Reno6 Pro 5G 12 GB 256 GB Stellar Black  46,999-15%    39,980   \n",
       "2           Realme C25s 4 GB 128 GB Watery Grey   12,999-1%    12,897   \n",
       "3                   Redmi 9 4 GB 64 GB Sky Blue   10,999-3%    10,699   \n",
       "4        Samsung Galaxy A22 5G 6 GB 128 GB Mint  22,499-11%    19,999   \n",
       "\n",
       "   Savings Amount          Storage      Brand   Colour  \n",
       "0             NaN    [4 GB, 64 GB]     [Vivo]   [Blue]  \n",
       "1             NaN  [12 GB, 256 GB]     [OPPO]  [Black]  \n",
       "2             NaN   [4 GB, 128 GB]   [Realme]   [Grey]  \n",
       "3             NaN    [4 GB, 64 GB]    [Redmi]   [Blue]  \n",
       "4             NaN   [6 GB, 128 GB]  [Samsung]   [Mint]  "
      ]
     },
     "execution_count": 13,
     "metadata": {},
     "output_type": "execute_result"
    }
   ],
   "source": [
    "regex = r'\\w+$'\n",
    "\n",
    "df['Colour'] = df['Products'].apply(lambda x : re.findall(regex, x))\n",
    "\n",
    "df.head()"
   ]
  },
  {
   "cell_type": "markdown",
   "metadata": {},
   "source": [
    "## Data Cleaning"
   ]
  },
  {
   "cell_type": "code",
   "execution_count": 14,
   "metadata": {},
   "outputs": [
    {
     "data": {
      "text/html": [
       "<div>\n",
       "<style scoped>\n",
       "    .dataframe tbody tr th:only-of-type {\n",
       "        vertical-align: middle;\n",
       "    }\n",
       "\n",
       "    .dataframe tbody tr th {\n",
       "        vertical-align: top;\n",
       "    }\n",
       "\n",
       "    .dataframe thead th {\n",
       "        text-align: right;\n",
       "    }\n",
       "</style>\n",
       "<table border=\"1\" class=\"dataframe\">\n",
       "  <thead>\n",
       "    <tr style=\"text-align: right;\">\n",
       "      <th></th>\n",
       "      <th>Products</th>\n",
       "      <th>Actual Mrp</th>\n",
       "      <th>Final Mrp</th>\n",
       "      <th>Savings Amount</th>\n",
       "      <th>Storage</th>\n",
       "      <th>Brand</th>\n",
       "      <th>Colour</th>\n",
       "    </tr>\n",
       "  </thead>\n",
       "  <tbody>\n",
       "    <tr>\n",
       "      <th>0</th>\n",
       "      <td>Vivo Y20 4 GB 64 GB Purist Blue</td>\n",
       "      <td>16990 24</td>\n",
       "      <td>12,990</td>\n",
       "      <td>NaN</td>\n",
       "      <td>[4 GB, 64 GB]</td>\n",
       "      <td>[Vivo]</td>\n",
       "      <td>[Blue]</td>\n",
       "    </tr>\n",
       "    <tr>\n",
       "      <th>1</th>\n",
       "      <td>OPPO Reno6 Pro 5G 12 GB 256 GB Stellar Black</td>\n",
       "      <td>46999 15</td>\n",
       "      <td>39,980</td>\n",
       "      <td>NaN</td>\n",
       "      <td>[12 GB, 256 GB]</td>\n",
       "      <td>[OPPO]</td>\n",
       "      <td>[Black]</td>\n",
       "    </tr>\n",
       "    <tr>\n",
       "      <th>2</th>\n",
       "      <td>Realme C25s 4 GB 128 GB Watery Grey</td>\n",
       "      <td>12999 1</td>\n",
       "      <td>12,897</td>\n",
       "      <td>NaN</td>\n",
       "      <td>[4 GB, 128 GB]</td>\n",
       "      <td>[Realme]</td>\n",
       "      <td>[Grey]</td>\n",
       "    </tr>\n",
       "    <tr>\n",
       "      <th>3</th>\n",
       "      <td>Redmi 9 4 GB 64 GB Sky Blue</td>\n",
       "      <td>10999 3</td>\n",
       "      <td>10,699</td>\n",
       "      <td>NaN</td>\n",
       "      <td>[4 GB, 64 GB]</td>\n",
       "      <td>[Redmi]</td>\n",
       "      <td>[Blue]</td>\n",
       "    </tr>\n",
       "    <tr>\n",
       "      <th>4</th>\n",
       "      <td>Samsung Galaxy A22 5G 6 GB 128 GB Mint</td>\n",
       "      <td>22499 11</td>\n",
       "      <td>19,999</td>\n",
       "      <td>NaN</td>\n",
       "      <td>[6 GB, 128 GB]</td>\n",
       "      <td>[Samsung]</td>\n",
       "      <td>[Mint]</td>\n",
       "    </tr>\n",
       "  </tbody>\n",
       "</table>\n",
       "</div>"
      ],
      "text/plain": [
       "                                       Products Actual Mrp Final Mrp  \\\n",
       "0               Vivo Y20 4 GB 64 GB Purist Blue   16990 24    12,990   \n",
       "1  OPPO Reno6 Pro 5G 12 GB 256 GB Stellar Black   46999 15    39,980   \n",
       "2           Realme C25s 4 GB 128 GB Watery Grey    12999 1    12,897   \n",
       "3                   Redmi 9 4 GB 64 GB Sky Blue    10999 3    10,699   \n",
       "4        Samsung Galaxy A22 5G 6 GB 128 GB Mint   22499 11    19,999   \n",
       "\n",
       "   Savings Amount          Storage      Brand   Colour  \n",
       "0             NaN    [4 GB, 64 GB]     [Vivo]   [Blue]  \n",
       "1             NaN  [12 GB, 256 GB]     [OPPO]  [Black]  \n",
       "2             NaN   [4 GB, 128 GB]   [Realme]   [Grey]  \n",
       "3             NaN    [4 GB, 64 GB]    [Redmi]   [Blue]  \n",
       "4             NaN   [6 GB, 128 GB]  [Samsung]   [Mint]  "
      ]
     },
     "execution_count": 14,
     "metadata": {},
     "output_type": "execute_result"
    }
   ],
   "source": [
    "df['Actual Mrp'] = df['Actual Mrp'].replace(',', '', regex=True).replace('-', ' ', regex=True).replace('%', '', regex=True)\n",
    "\n",
    "df.head()"
   ]
  },
  {
   "cell_type": "code",
   "execution_count": 15,
   "metadata": {},
   "outputs": [
    {
     "data": {
      "text/html": [
       "<div>\n",
       "<style scoped>\n",
       "    .dataframe tbody tr th:only-of-type {\n",
       "        vertical-align: middle;\n",
       "    }\n",
       "\n",
       "    .dataframe tbody tr th {\n",
       "        vertical-align: top;\n",
       "    }\n",
       "\n",
       "    .dataframe thead th {\n",
       "        text-align: right;\n",
       "    }\n",
       "</style>\n",
       "<table border=\"1\" class=\"dataframe\">\n",
       "  <thead>\n",
       "    <tr style=\"text-align: right;\">\n",
       "      <th></th>\n",
       "      <th>Products</th>\n",
       "      <th>Actual Mrp</th>\n",
       "      <th>Final Mrp</th>\n",
       "      <th>Savings Amount</th>\n",
       "      <th>Storage</th>\n",
       "      <th>Brand</th>\n",
       "      <th>Colour</th>\n",
       "      <th>Total Price</th>\n",
       "      <th>Discount %</th>\n",
       "    </tr>\n",
       "  </thead>\n",
       "  <tbody>\n",
       "    <tr>\n",
       "      <th>0</th>\n",
       "      <td>Vivo Y20 4 GB 64 GB Purist Blue</td>\n",
       "      <td>16990 24</td>\n",
       "      <td>12,990</td>\n",
       "      <td>NaN</td>\n",
       "      <td>[4 GB, 64 GB]</td>\n",
       "      <td>[Vivo]</td>\n",
       "      <td>[Blue]</td>\n",
       "      <td>16990.0</td>\n",
       "      <td>24.0</td>\n",
       "    </tr>\n",
       "    <tr>\n",
       "      <th>1</th>\n",
       "      <td>OPPO Reno6 Pro 5G 12 GB 256 GB Stellar Black</td>\n",
       "      <td>46999 15</td>\n",
       "      <td>39,980</td>\n",
       "      <td>NaN</td>\n",
       "      <td>[12 GB, 256 GB]</td>\n",
       "      <td>[OPPO]</td>\n",
       "      <td>[Black]</td>\n",
       "      <td>46999.0</td>\n",
       "      <td>15.0</td>\n",
       "    </tr>\n",
       "    <tr>\n",
       "      <th>2</th>\n",
       "      <td>Realme C25s 4 GB 128 GB Watery Grey</td>\n",
       "      <td>12999 1</td>\n",
       "      <td>12,897</td>\n",
       "      <td>NaN</td>\n",
       "      <td>[4 GB, 128 GB]</td>\n",
       "      <td>[Realme]</td>\n",
       "      <td>[Grey]</td>\n",
       "      <td>12999.0</td>\n",
       "      <td>1.0</td>\n",
       "    </tr>\n",
       "    <tr>\n",
       "      <th>3</th>\n",
       "      <td>Redmi 9 4 GB 64 GB Sky Blue</td>\n",
       "      <td>10999 3</td>\n",
       "      <td>10,699</td>\n",
       "      <td>NaN</td>\n",
       "      <td>[4 GB, 64 GB]</td>\n",
       "      <td>[Redmi]</td>\n",
       "      <td>[Blue]</td>\n",
       "      <td>10999.0</td>\n",
       "      <td>3.0</td>\n",
       "    </tr>\n",
       "    <tr>\n",
       "      <th>4</th>\n",
       "      <td>Samsung Galaxy A22 5G 6 GB 128 GB Mint</td>\n",
       "      <td>22499 11</td>\n",
       "      <td>19,999</td>\n",
       "      <td>NaN</td>\n",
       "      <td>[6 GB, 128 GB]</td>\n",
       "      <td>[Samsung]</td>\n",
       "      <td>[Mint]</td>\n",
       "      <td>22499.0</td>\n",
       "      <td>11.0</td>\n",
       "    </tr>\n",
       "  </tbody>\n",
       "</table>\n",
       "</div>"
      ],
      "text/plain": [
       "                                       Products Actual Mrp Final Mrp  \\\n",
       "0               Vivo Y20 4 GB 64 GB Purist Blue   16990 24    12,990   \n",
       "1  OPPO Reno6 Pro 5G 12 GB 256 GB Stellar Black   46999 15    39,980   \n",
       "2           Realme C25s 4 GB 128 GB Watery Grey    12999 1    12,897   \n",
       "3                   Redmi 9 4 GB 64 GB Sky Blue    10999 3    10,699   \n",
       "4        Samsung Galaxy A22 5G 6 GB 128 GB Mint   22499 11    19,999   \n",
       "\n",
       "   Savings Amount          Storage      Brand   Colour  Total Price  \\\n",
       "0             NaN    [4 GB, 64 GB]     [Vivo]   [Blue]      16990.0   \n",
       "1             NaN  [12 GB, 256 GB]     [OPPO]  [Black]      46999.0   \n",
       "2             NaN   [4 GB, 128 GB]   [Realme]   [Grey]      12999.0   \n",
       "3             NaN    [4 GB, 64 GB]    [Redmi]   [Blue]      10999.0   \n",
       "4             NaN   [6 GB, 128 GB]  [Samsung]   [Mint]      22499.0   \n",
       "\n",
       "   Discount %  \n",
       "0        24.0  \n",
       "1        15.0  \n",
       "2         1.0  \n",
       "3         3.0  \n",
       "4        11.0  "
      ]
     },
     "execution_count": 15,
     "metadata": {},
     "output_type": "execute_result"
    }
   ],
   "source": [
    "df[['Total Price','Discount %']] = df['Actual Mrp'].str.split(expand=True).astype(float)\n",
    "\n",
    "df.head()"
   ]
  },
  {
   "cell_type": "code",
   "execution_count": 16,
   "metadata": {},
   "outputs": [
    {
     "data": {
      "text/html": [
       "<div>\n",
       "<style scoped>\n",
       "    .dataframe tbody tr th:only-of-type {\n",
       "        vertical-align: middle;\n",
       "    }\n",
       "\n",
       "    .dataframe tbody tr th {\n",
       "        vertical-align: top;\n",
       "    }\n",
       "\n",
       "    .dataframe thead th {\n",
       "        text-align: right;\n",
       "    }\n",
       "</style>\n",
       "<table border=\"1\" class=\"dataframe\">\n",
       "  <thead>\n",
       "    <tr style=\"text-align: right;\">\n",
       "      <th></th>\n",
       "      <th>Products</th>\n",
       "      <th>Actual Mrp</th>\n",
       "      <th>Final Mrp</th>\n",
       "      <th>Savings Amount</th>\n",
       "      <th>Storage</th>\n",
       "      <th>Brand</th>\n",
       "      <th>Colour</th>\n",
       "      <th>Total Price</th>\n",
       "      <th>Discount %</th>\n",
       "    </tr>\n",
       "  </thead>\n",
       "  <tbody>\n",
       "    <tr>\n",
       "      <th>0</th>\n",
       "      <td>Vivo Y20 4 GB 64 GB Purist Blue</td>\n",
       "      <td>16990 24</td>\n",
       "      <td>12990.0</td>\n",
       "      <td>NaN</td>\n",
       "      <td>[4 GB, 64 GB]</td>\n",
       "      <td>[Vivo]</td>\n",
       "      <td>[Blue]</td>\n",
       "      <td>16990.0</td>\n",
       "      <td>24.0</td>\n",
       "    </tr>\n",
       "    <tr>\n",
       "      <th>1</th>\n",
       "      <td>OPPO Reno6 Pro 5G 12 GB 256 GB Stellar Black</td>\n",
       "      <td>46999 15</td>\n",
       "      <td>39980.0</td>\n",
       "      <td>NaN</td>\n",
       "      <td>[12 GB, 256 GB]</td>\n",
       "      <td>[OPPO]</td>\n",
       "      <td>[Black]</td>\n",
       "      <td>46999.0</td>\n",
       "      <td>15.0</td>\n",
       "    </tr>\n",
       "    <tr>\n",
       "      <th>2</th>\n",
       "      <td>Realme C25s 4 GB 128 GB Watery Grey</td>\n",
       "      <td>12999 1</td>\n",
       "      <td>12897.0</td>\n",
       "      <td>NaN</td>\n",
       "      <td>[4 GB, 128 GB]</td>\n",
       "      <td>[Realme]</td>\n",
       "      <td>[Grey]</td>\n",
       "      <td>12999.0</td>\n",
       "      <td>1.0</td>\n",
       "    </tr>\n",
       "    <tr>\n",
       "      <th>3</th>\n",
       "      <td>Redmi 9 4 GB 64 GB Sky Blue</td>\n",
       "      <td>10999 3</td>\n",
       "      <td>10699.0</td>\n",
       "      <td>NaN</td>\n",
       "      <td>[4 GB, 64 GB]</td>\n",
       "      <td>[Redmi]</td>\n",
       "      <td>[Blue]</td>\n",
       "      <td>10999.0</td>\n",
       "      <td>3.0</td>\n",
       "    </tr>\n",
       "    <tr>\n",
       "      <th>4</th>\n",
       "      <td>Samsung Galaxy A22 5G 6 GB 128 GB Mint</td>\n",
       "      <td>22499 11</td>\n",
       "      <td>19999.0</td>\n",
       "      <td>NaN</td>\n",
       "      <td>[6 GB, 128 GB]</td>\n",
       "      <td>[Samsung]</td>\n",
       "      <td>[Mint]</td>\n",
       "      <td>22499.0</td>\n",
       "      <td>11.0</td>\n",
       "    </tr>\n",
       "  </tbody>\n",
       "</table>\n",
       "</div>"
      ],
      "text/plain": [
       "                                       Products Actual Mrp  Final Mrp  \\\n",
       "0               Vivo Y20 4 GB 64 GB Purist Blue   16990 24    12990.0   \n",
       "1  OPPO Reno6 Pro 5G 12 GB 256 GB Stellar Black   46999 15    39980.0   \n",
       "2           Realme C25s 4 GB 128 GB Watery Grey    12999 1    12897.0   \n",
       "3                   Redmi 9 4 GB 64 GB Sky Blue    10999 3    10699.0   \n",
       "4        Samsung Galaxy A22 5G 6 GB 128 GB Mint   22499 11    19999.0   \n",
       "\n",
       "   Savings Amount          Storage      Brand   Colour  Total Price  \\\n",
       "0             NaN    [4 GB, 64 GB]     [Vivo]   [Blue]      16990.0   \n",
       "1             NaN  [12 GB, 256 GB]     [OPPO]  [Black]      46999.0   \n",
       "2             NaN   [4 GB, 128 GB]   [Realme]   [Grey]      12999.0   \n",
       "3             NaN    [4 GB, 64 GB]    [Redmi]   [Blue]      10999.0   \n",
       "4             NaN   [6 GB, 128 GB]  [Samsung]   [Mint]      22499.0   \n",
       "\n",
       "   Discount %  \n",
       "0        24.0  \n",
       "1        15.0  \n",
       "2         1.0  \n",
       "3         3.0  \n",
       "4        11.0  "
      ]
     },
     "execution_count": 16,
     "metadata": {},
     "output_type": "execute_result"
    }
   ],
   "source": [
    "df['Final Mrp'] = df['Final Mrp'].replace(',', '', regex=True).astype(float)\n",
    "\n",
    "df.head()"
   ]
  },
  {
   "cell_type": "code",
   "execution_count": 17,
   "metadata": {},
   "outputs": [
    {
     "data": {
      "text/html": [
       "<div>\n",
       "<style scoped>\n",
       "    .dataframe tbody tr th:only-of-type {\n",
       "        vertical-align: middle;\n",
       "    }\n",
       "\n",
       "    .dataframe tbody tr th {\n",
       "        vertical-align: top;\n",
       "    }\n",
       "\n",
       "    .dataframe thead th {\n",
       "        text-align: right;\n",
       "    }\n",
       "</style>\n",
       "<table border=\"1\" class=\"dataframe\">\n",
       "  <thead>\n",
       "    <tr style=\"text-align: right;\">\n",
       "      <th></th>\n",
       "      <th>Products</th>\n",
       "      <th>Actual Mrp</th>\n",
       "      <th>Final Mrp</th>\n",
       "      <th>Savings Amount</th>\n",
       "      <th>Storage</th>\n",
       "      <th>Brand</th>\n",
       "      <th>Colour</th>\n",
       "      <th>Total Price</th>\n",
       "      <th>Discount %</th>\n",
       "    </tr>\n",
       "  </thead>\n",
       "  <tbody>\n",
       "    <tr>\n",
       "      <th>0</th>\n",
       "      <td>Vivo Y20 4 GB 64 GB Purist Blue</td>\n",
       "      <td>16990 24</td>\n",
       "      <td>12990.0</td>\n",
       "      <td>NaN</td>\n",
       "      <td>[4 GB, 64 GB]</td>\n",
       "      <td>[Vivo]</td>\n",
       "      <td>[Blue]</td>\n",
       "      <td>16990.0</td>\n",
       "      <td>24.0</td>\n",
       "    </tr>\n",
       "    <tr>\n",
       "      <th>1</th>\n",
       "      <td>OPPO Reno6 Pro 5G 12 GB 256 GB Stellar Black</td>\n",
       "      <td>46999 15</td>\n",
       "      <td>39980.0</td>\n",
       "      <td>NaN</td>\n",
       "      <td>[12 GB, 256 GB]</td>\n",
       "      <td>[OPPO]</td>\n",
       "      <td>[Black]</td>\n",
       "      <td>46999.0</td>\n",
       "      <td>15.0</td>\n",
       "    </tr>\n",
       "    <tr>\n",
       "      <th>2</th>\n",
       "      <td>Realme C25s 4 GB 128 GB Watery Grey</td>\n",
       "      <td>12999 1</td>\n",
       "      <td>12897.0</td>\n",
       "      <td>NaN</td>\n",
       "      <td>[4 GB, 128 GB]</td>\n",
       "      <td>[Realme]</td>\n",
       "      <td>[Grey]</td>\n",
       "      <td>12999.0</td>\n",
       "      <td>1.0</td>\n",
       "    </tr>\n",
       "    <tr>\n",
       "      <th>3</th>\n",
       "      <td>Redmi 9 4 GB 64 GB Sky Blue</td>\n",
       "      <td>10999 3</td>\n",
       "      <td>10699.0</td>\n",
       "      <td>NaN</td>\n",
       "      <td>[4 GB, 64 GB]</td>\n",
       "      <td>[Redmi]</td>\n",
       "      <td>[Blue]</td>\n",
       "      <td>10999.0</td>\n",
       "      <td>3.0</td>\n",
       "    </tr>\n",
       "    <tr>\n",
       "      <th>4</th>\n",
       "      <td>Samsung Galaxy A22 5G 6 GB 128 GB Mint</td>\n",
       "      <td>22499 11</td>\n",
       "      <td>19999.0</td>\n",
       "      <td>NaN</td>\n",
       "      <td>[6 GB, 128 GB]</td>\n",
       "      <td>[Samsung]</td>\n",
       "      <td>[Mint]</td>\n",
       "      <td>22499.0</td>\n",
       "      <td>11.0</td>\n",
       "    </tr>\n",
       "  </tbody>\n",
       "</table>\n",
       "</div>"
      ],
      "text/plain": [
       "                                       Products Actual Mrp  Final Mrp  \\\n",
       "0               Vivo Y20 4 GB 64 GB Purist Blue   16990 24    12990.0   \n",
       "1  OPPO Reno6 Pro 5G 12 GB 256 GB Stellar Black   46999 15    39980.0   \n",
       "2           Realme C25s 4 GB 128 GB Watery Grey    12999 1    12897.0   \n",
       "3                   Redmi 9 4 GB 64 GB Sky Blue    10999 3    10699.0   \n",
       "4        Samsung Galaxy A22 5G 6 GB 128 GB Mint   22499 11    19999.0   \n",
       "\n",
       "   Savings Amount          Storage      Brand   Colour  Total Price  \\\n",
       "0             NaN    [4 GB, 64 GB]     [Vivo]   [Blue]      16990.0   \n",
       "1             NaN  [12 GB, 256 GB]     [OPPO]  [Black]      46999.0   \n",
       "2             NaN   [4 GB, 128 GB]   [Realme]   [Grey]      12999.0   \n",
       "3             NaN    [4 GB, 64 GB]    [Redmi]   [Blue]      10999.0   \n",
       "4             NaN   [6 GB, 128 GB]  [Samsung]   [Mint]      22499.0   \n",
       "\n",
       "   Discount %  \n",
       "0        24.0  \n",
       "1        15.0  \n",
       "2         1.0  \n",
       "3         3.0  \n",
       "4        11.0  "
      ]
     },
     "execution_count": 17,
     "metadata": {},
     "output_type": "execute_result"
    }
   ],
   "source": [
    "df['Savings Amount'] = df['Savings Amount'].replace('Offers worth ₹', '', regex=True).astype(float)\n",
    "\n",
    "df.head()"
   ]
  },
  {
   "cell_type": "code",
   "execution_count": 18,
   "metadata": {},
   "outputs": [
    {
     "data": {
      "text/html": [
       "<div>\n",
       "<style scoped>\n",
       "    .dataframe tbody tr th:only-of-type {\n",
       "        vertical-align: middle;\n",
       "    }\n",
       "\n",
       "    .dataframe tbody tr th {\n",
       "        vertical-align: top;\n",
       "    }\n",
       "\n",
       "    .dataframe thead th {\n",
       "        text-align: right;\n",
       "    }\n",
       "</style>\n",
       "<table border=\"1\" class=\"dataframe\">\n",
       "  <thead>\n",
       "    <tr style=\"text-align: right;\">\n",
       "      <th></th>\n",
       "      <th>Products</th>\n",
       "      <th>Actual Mrp</th>\n",
       "      <th>Final Mrp</th>\n",
       "      <th>Savings Amount</th>\n",
       "      <th>Storage</th>\n",
       "      <th>Brand</th>\n",
       "      <th>Colour</th>\n",
       "      <th>Total Price</th>\n",
       "      <th>Discount %</th>\n",
       "      <th>RAM</th>\n",
       "      <th>ROM</th>\n",
       "    </tr>\n",
       "  </thead>\n",
       "  <tbody>\n",
       "    <tr>\n",
       "      <th>0</th>\n",
       "      <td>Vivo Y20 4 GB 64 GB Purist Blue</td>\n",
       "      <td>16990 24</td>\n",
       "      <td>12990.0</td>\n",
       "      <td>NaN</td>\n",
       "      <td>[4 GB, 64 GB]</td>\n",
       "      <td>[Vivo]</td>\n",
       "      <td>[Blue]</td>\n",
       "      <td>16990.0</td>\n",
       "      <td>24.0</td>\n",
       "      <td>4 GB</td>\n",
       "      <td>64 GB</td>\n",
       "    </tr>\n",
       "    <tr>\n",
       "      <th>1</th>\n",
       "      <td>OPPO Reno6 Pro 5G 12 GB 256 GB Stellar Black</td>\n",
       "      <td>46999 15</td>\n",
       "      <td>39980.0</td>\n",
       "      <td>NaN</td>\n",
       "      <td>[12 GB, 256 GB]</td>\n",
       "      <td>[OPPO]</td>\n",
       "      <td>[Black]</td>\n",
       "      <td>46999.0</td>\n",
       "      <td>15.0</td>\n",
       "      <td>12 GB</td>\n",
       "      <td>256 GB</td>\n",
       "    </tr>\n",
       "    <tr>\n",
       "      <th>2</th>\n",
       "      <td>Realme C25s 4 GB 128 GB Watery Grey</td>\n",
       "      <td>12999 1</td>\n",
       "      <td>12897.0</td>\n",
       "      <td>NaN</td>\n",
       "      <td>[4 GB, 128 GB]</td>\n",
       "      <td>[Realme]</td>\n",
       "      <td>[Grey]</td>\n",
       "      <td>12999.0</td>\n",
       "      <td>1.0</td>\n",
       "      <td>4 GB</td>\n",
       "      <td>128 GB</td>\n",
       "    </tr>\n",
       "    <tr>\n",
       "      <th>3</th>\n",
       "      <td>Redmi 9 4 GB 64 GB Sky Blue</td>\n",
       "      <td>10999 3</td>\n",
       "      <td>10699.0</td>\n",
       "      <td>NaN</td>\n",
       "      <td>[4 GB, 64 GB]</td>\n",
       "      <td>[Redmi]</td>\n",
       "      <td>[Blue]</td>\n",
       "      <td>10999.0</td>\n",
       "      <td>3.0</td>\n",
       "      <td>4 GB</td>\n",
       "      <td>64 GB</td>\n",
       "    </tr>\n",
       "    <tr>\n",
       "      <th>4</th>\n",
       "      <td>Samsung Galaxy A22 5G 6 GB 128 GB Mint</td>\n",
       "      <td>22499 11</td>\n",
       "      <td>19999.0</td>\n",
       "      <td>NaN</td>\n",
       "      <td>[6 GB, 128 GB]</td>\n",
       "      <td>[Samsung]</td>\n",
       "      <td>[Mint]</td>\n",
       "      <td>22499.0</td>\n",
       "      <td>11.0</td>\n",
       "      <td>6 GB</td>\n",
       "      <td>128 GB</td>\n",
       "    </tr>\n",
       "  </tbody>\n",
       "</table>\n",
       "</div>"
      ],
      "text/plain": [
       "                                       Products Actual Mrp  Final Mrp  \\\n",
       "0               Vivo Y20 4 GB 64 GB Purist Blue   16990 24    12990.0   \n",
       "1  OPPO Reno6 Pro 5G 12 GB 256 GB Stellar Black   46999 15    39980.0   \n",
       "2           Realme C25s 4 GB 128 GB Watery Grey    12999 1    12897.0   \n",
       "3                   Redmi 9 4 GB 64 GB Sky Blue    10999 3    10699.0   \n",
       "4        Samsung Galaxy A22 5G 6 GB 128 GB Mint   22499 11    19999.0   \n",
       "\n",
       "   Savings Amount          Storage      Brand   Colour  Total Price  \\\n",
       "0             NaN    [4 GB, 64 GB]     [Vivo]   [Blue]      16990.0   \n",
       "1             NaN  [12 GB, 256 GB]     [OPPO]  [Black]      46999.0   \n",
       "2             NaN   [4 GB, 128 GB]   [Realme]   [Grey]      12999.0   \n",
       "3             NaN    [4 GB, 64 GB]    [Redmi]   [Blue]      10999.0   \n",
       "4             NaN   [6 GB, 128 GB]  [Samsung]   [Mint]      22499.0   \n",
       "\n",
       "   Discount %    RAM     ROM  \n",
       "0        24.0   4 GB   64 GB  \n",
       "1        15.0  12 GB  256 GB  \n",
       "2         1.0   4 GB  128 GB  \n",
       "3         3.0   4 GB   64 GB  \n",
       "4        11.0   6 GB  128 GB  "
      ]
     },
     "execution_count": 18,
     "metadata": {},
     "output_type": "execute_result"
    }
   ],
   "source": [
    "df[['RAM', 'ROM']] = pd.DataFrame(df['Storage'].tolist(), index=df.index)\n",
    "\n",
    "df.head()"
   ]
  },
  {
   "cell_type": "code",
   "execution_count": 19,
   "metadata": {},
   "outputs": [],
   "source": [
    "df.Storage = df.Storage.apply(lambda x : ''.join(x))\n",
    "df.Brand = df.Brand.apply(lambda x : ''.join(x))\n",
    "df.Colour = df.Colour.apply(lambda x : ''.join(x))"
   ]
  },
  {
   "cell_type": "code",
   "execution_count": 20,
   "metadata": {},
   "outputs": [
    {
     "data": {
      "text/html": [
       "<div>\n",
       "<style scoped>\n",
       "    .dataframe tbody tr th:only-of-type {\n",
       "        vertical-align: middle;\n",
       "    }\n",
       "\n",
       "    .dataframe tbody tr th {\n",
       "        vertical-align: top;\n",
       "    }\n",
       "\n",
       "    .dataframe thead th {\n",
       "        text-align: right;\n",
       "    }\n",
       "</style>\n",
       "<table border=\"1\" class=\"dataframe\">\n",
       "  <thead>\n",
       "    <tr style=\"text-align: right;\">\n",
       "      <th></th>\n",
       "      <th>Products</th>\n",
       "      <th>Actual Mrp</th>\n",
       "      <th>Final Mrp</th>\n",
       "      <th>Savings Amount</th>\n",
       "      <th>Storage</th>\n",
       "      <th>Brand</th>\n",
       "      <th>Colour</th>\n",
       "      <th>Total Price</th>\n",
       "      <th>Discount %</th>\n",
       "      <th>RAM</th>\n",
       "      <th>ROM</th>\n",
       "    </tr>\n",
       "  </thead>\n",
       "  <tbody>\n",
       "    <tr>\n",
       "      <th>0</th>\n",
       "      <td>Vivo Y20 4 GB 64 GB Purist Blue</td>\n",
       "      <td>16990 24</td>\n",
       "      <td>12990.0</td>\n",
       "      <td>NaN</td>\n",
       "      <td>4 GB64 GB</td>\n",
       "      <td>Vivo</td>\n",
       "      <td>Blue</td>\n",
       "      <td>16990.0</td>\n",
       "      <td>24.0</td>\n",
       "      <td>4 GB</td>\n",
       "      <td>64 GB</td>\n",
       "    </tr>\n",
       "    <tr>\n",
       "      <th>1</th>\n",
       "      <td>OPPO Reno6 Pro 5G 12 GB 256 GB Stellar Black</td>\n",
       "      <td>46999 15</td>\n",
       "      <td>39980.0</td>\n",
       "      <td>NaN</td>\n",
       "      <td>12 GB256 GB</td>\n",
       "      <td>OPPO</td>\n",
       "      <td>Black</td>\n",
       "      <td>46999.0</td>\n",
       "      <td>15.0</td>\n",
       "      <td>12 GB</td>\n",
       "      <td>256 GB</td>\n",
       "    </tr>\n",
       "    <tr>\n",
       "      <th>2</th>\n",
       "      <td>Realme C25s 4 GB 128 GB Watery Grey</td>\n",
       "      <td>12999 1</td>\n",
       "      <td>12897.0</td>\n",
       "      <td>NaN</td>\n",
       "      <td>4 GB128 GB</td>\n",
       "      <td>Realme</td>\n",
       "      <td>Grey</td>\n",
       "      <td>12999.0</td>\n",
       "      <td>1.0</td>\n",
       "      <td>4 GB</td>\n",
       "      <td>128 GB</td>\n",
       "    </tr>\n",
       "    <tr>\n",
       "      <th>3</th>\n",
       "      <td>Redmi 9 4 GB 64 GB Sky Blue</td>\n",
       "      <td>10999 3</td>\n",
       "      <td>10699.0</td>\n",
       "      <td>NaN</td>\n",
       "      <td>4 GB64 GB</td>\n",
       "      <td>Redmi</td>\n",
       "      <td>Blue</td>\n",
       "      <td>10999.0</td>\n",
       "      <td>3.0</td>\n",
       "      <td>4 GB</td>\n",
       "      <td>64 GB</td>\n",
       "    </tr>\n",
       "    <tr>\n",
       "      <th>4</th>\n",
       "      <td>Samsung Galaxy A22 5G 6 GB 128 GB Mint</td>\n",
       "      <td>22499 11</td>\n",
       "      <td>19999.0</td>\n",
       "      <td>NaN</td>\n",
       "      <td>6 GB128 GB</td>\n",
       "      <td>Samsung</td>\n",
       "      <td>Mint</td>\n",
       "      <td>22499.0</td>\n",
       "      <td>11.0</td>\n",
       "      <td>6 GB</td>\n",
       "      <td>128 GB</td>\n",
       "    </tr>\n",
       "  </tbody>\n",
       "</table>\n",
       "</div>"
      ],
      "text/plain": [
       "                                       Products Actual Mrp  Final Mrp  \\\n",
       "0               Vivo Y20 4 GB 64 GB Purist Blue   16990 24    12990.0   \n",
       "1  OPPO Reno6 Pro 5G 12 GB 256 GB Stellar Black   46999 15    39980.0   \n",
       "2           Realme C25s 4 GB 128 GB Watery Grey    12999 1    12897.0   \n",
       "3                   Redmi 9 4 GB 64 GB Sky Blue    10999 3    10699.0   \n",
       "4        Samsung Galaxy A22 5G 6 GB 128 GB Mint   22499 11    19999.0   \n",
       "\n",
       "   Savings Amount      Storage    Brand Colour  Total Price  Discount %  \\\n",
       "0             NaN    4 GB64 GB     Vivo   Blue      16990.0        24.0   \n",
       "1             NaN  12 GB256 GB     OPPO  Black      46999.0        15.0   \n",
       "2             NaN   4 GB128 GB   Realme   Grey      12999.0         1.0   \n",
       "3             NaN    4 GB64 GB    Redmi   Blue      10999.0         3.0   \n",
       "4             NaN   6 GB128 GB  Samsung   Mint      22499.0        11.0   \n",
       "\n",
       "     RAM     ROM  \n",
       "0   4 GB   64 GB  \n",
       "1  12 GB  256 GB  \n",
       "2   4 GB  128 GB  \n",
       "3   4 GB   64 GB  \n",
       "4   6 GB  128 GB  "
      ]
     },
     "execution_count": 20,
     "metadata": {},
     "output_type": "execute_result"
    }
   ],
   "source": [
    "df.head()"
   ]
  },
  {
   "cell_type": "code",
   "execution_count": 21,
   "metadata": {},
   "outputs": [],
   "source": [
    "del df['Storage']"
   ]
  },
  {
   "cell_type": "code",
   "execution_count": 22,
   "metadata": {},
   "outputs": [
    {
     "data": {
      "text/plain": [
       "(333, 10)"
      ]
     },
     "execution_count": 22,
     "metadata": {},
     "output_type": "execute_result"
    }
   ],
   "source": [
    "df.shape"
   ]
  },
  {
   "cell_type": "code",
   "execution_count": 23,
   "metadata": {},
   "outputs": [
    {
     "name": "stdout",
     "output_type": "stream",
     "text": [
      "<class 'pandas.core.frame.DataFrame'>\n",
      "RangeIndex: 333 entries, 0 to 332\n",
      "Data columns (total 10 columns):\n",
      " #   Column          Non-Null Count  Dtype  \n",
      "---  ------          --------------  -----  \n",
      " 0   Products        333 non-null    object \n",
      " 1   Actual Mrp      292 non-null    object \n",
      " 2   Final Mrp       333 non-null    float64\n",
      " 3   Savings Amount  0 non-null      float64\n",
      " 4   Brand           333 non-null    object \n",
      " 5   Colour          333 non-null    object \n",
      " 6   Total Price     292 non-null    float64\n",
      " 7   Discount %      281 non-null    float64\n",
      " 8   RAM             312 non-null    object \n",
      " 9   ROM             283 non-null    object \n",
      "dtypes: float64(4), object(6)\n",
      "memory usage: 26.1+ KB\n"
     ]
    }
   ],
   "source": [
    "df.info()"
   ]
  },
  {
   "cell_type": "code",
   "execution_count": 24,
   "metadata": {},
   "outputs": [
    {
     "data": {
      "text/plain": [
       "Products            0\n",
       "Actual Mrp         41\n",
       "Final Mrp           0\n",
       "Savings Amount    333\n",
       "Brand               0\n",
       "Colour              0\n",
       "Total Price        41\n",
       "Discount %         52\n",
       "RAM                21\n",
       "ROM                50\n",
       "dtype: int64"
      ]
     },
     "execution_count": 24,
     "metadata": {},
     "output_type": "execute_result"
    }
   ],
   "source": [
    "df.isnull().sum()"
   ]
  },
  {
   "cell_type": "markdown",
   "metadata": {},
   "source": [
    "## Data Visualization"
   ]
  },
  {
   "cell_type": "code",
   "execution_count": 25,
   "metadata": {},
   "outputs": [],
   "source": [
    "import matplotlib.pyplot as plt\n",
    "import seaborn as sns"
   ]
  },
  {
   "cell_type": "code",
   "execution_count": 26,
   "metadata": {},
   "outputs": [],
   "source": [
    "import warnings"
   ]
  },
  {
   "cell_type": "code",
   "execution_count": 27,
   "metadata": {
    "scrolled": true
   },
   "outputs": [],
   "source": [
    "warnings.filterwarnings(\"ignore\")"
   ]
  },
  {
   "cell_type": "code",
   "execution_count": 28,
   "metadata": {},
   "outputs": [
    {
     "data": {
      "text/html": [
       "<div>\n",
       "<style scoped>\n",
       "    .dataframe tbody tr th:only-of-type {\n",
       "        vertical-align: middle;\n",
       "    }\n",
       "\n",
       "    .dataframe tbody tr th {\n",
       "        vertical-align: top;\n",
       "    }\n",
       "\n",
       "    .dataframe thead th {\n",
       "        text-align: right;\n",
       "    }\n",
       "</style>\n",
       "<table border=\"1\" class=\"dataframe\">\n",
       "  <thead>\n",
       "    <tr style=\"text-align: right;\">\n",
       "      <th></th>\n",
       "      <th>Products</th>\n",
       "      <th>Actual Mrp</th>\n",
       "      <th>Final Mrp</th>\n",
       "      <th>Savings Amount</th>\n",
       "      <th>Brand</th>\n",
       "      <th>Colour</th>\n",
       "      <th>Total Price</th>\n",
       "      <th>Discount %</th>\n",
       "      <th>RAM</th>\n",
       "      <th>ROM</th>\n",
       "    </tr>\n",
       "  </thead>\n",
       "  <tbody>\n",
       "    <tr>\n",
       "      <th>0</th>\n",
       "      <td>Vivo Y20 4 GB 64 GB Purist Blue</td>\n",
       "      <td>16990 24</td>\n",
       "      <td>12990.0</td>\n",
       "      <td>NaN</td>\n",
       "      <td>Vivo</td>\n",
       "      <td>Blue</td>\n",
       "      <td>16990.0</td>\n",
       "      <td>24.0</td>\n",
       "      <td>4 GB</td>\n",
       "      <td>64 GB</td>\n",
       "    </tr>\n",
       "    <tr>\n",
       "      <th>1</th>\n",
       "      <td>OPPO Reno6 Pro 5G 12 GB 256 GB Stellar Black</td>\n",
       "      <td>46999 15</td>\n",
       "      <td>39980.0</td>\n",
       "      <td>NaN</td>\n",
       "      <td>OPPO</td>\n",
       "      <td>Black</td>\n",
       "      <td>46999.0</td>\n",
       "      <td>15.0</td>\n",
       "      <td>12 GB</td>\n",
       "      <td>256 GB</td>\n",
       "    </tr>\n",
       "    <tr>\n",
       "      <th>2</th>\n",
       "      <td>Realme C25s 4 GB 128 GB Watery Grey</td>\n",
       "      <td>12999 1</td>\n",
       "      <td>12897.0</td>\n",
       "      <td>NaN</td>\n",
       "      <td>Realme</td>\n",
       "      <td>Grey</td>\n",
       "      <td>12999.0</td>\n",
       "      <td>1.0</td>\n",
       "      <td>4 GB</td>\n",
       "      <td>128 GB</td>\n",
       "    </tr>\n",
       "    <tr>\n",
       "      <th>3</th>\n",
       "      <td>Redmi 9 4 GB 64 GB Sky Blue</td>\n",
       "      <td>10999 3</td>\n",
       "      <td>10699.0</td>\n",
       "      <td>NaN</td>\n",
       "      <td>Redmi</td>\n",
       "      <td>Blue</td>\n",
       "      <td>10999.0</td>\n",
       "      <td>3.0</td>\n",
       "      <td>4 GB</td>\n",
       "      <td>64 GB</td>\n",
       "    </tr>\n",
       "    <tr>\n",
       "      <th>4</th>\n",
       "      <td>Samsung Galaxy A22 5G 6 GB 128 GB Mint</td>\n",
       "      <td>22499 11</td>\n",
       "      <td>19999.0</td>\n",
       "      <td>NaN</td>\n",
       "      <td>Samsung</td>\n",
       "      <td>Mint</td>\n",
       "      <td>22499.0</td>\n",
       "      <td>11.0</td>\n",
       "      <td>6 GB</td>\n",
       "      <td>128 GB</td>\n",
       "    </tr>\n",
       "  </tbody>\n",
       "</table>\n",
       "</div>"
      ],
      "text/plain": [
       "                                       Products Actual Mrp  Final Mrp  \\\n",
       "0               Vivo Y20 4 GB 64 GB Purist Blue   16990 24    12990.0   \n",
       "1  OPPO Reno6 Pro 5G 12 GB 256 GB Stellar Black   46999 15    39980.0   \n",
       "2           Realme C25s 4 GB 128 GB Watery Grey    12999 1    12897.0   \n",
       "3                   Redmi 9 4 GB 64 GB Sky Blue    10999 3    10699.0   \n",
       "4        Samsung Galaxy A22 5G 6 GB 128 GB Mint   22499 11    19999.0   \n",
       "\n",
       "   Savings Amount    Brand Colour  Total Price  Discount %    RAM     ROM  \n",
       "0             NaN     Vivo   Blue      16990.0        24.0   4 GB   64 GB  \n",
       "1             NaN     OPPO  Black      46999.0        15.0  12 GB  256 GB  \n",
       "2             NaN   Realme   Grey      12999.0         1.0   4 GB  128 GB  \n",
       "3             NaN    Redmi   Blue      10999.0         3.0   4 GB   64 GB  \n",
       "4             NaN  Samsung   Mint      22499.0        11.0   6 GB  128 GB  "
      ]
     },
     "execution_count": 28,
     "metadata": {},
     "output_type": "execute_result"
    }
   ],
   "source": [
    "df.head()"
   ]
  },
  {
   "cell_type": "code",
   "execution_count": 29,
   "metadata": {},
   "outputs": [
    {
     "data": {
      "text/plain": [
       "<AxesSubplot:xlabel='Brand', ylabel='Final Mrp'>"
      ]
     },
     "execution_count": 29,
     "metadata": {},
     "output_type": "execute_result"
    },
    {
     "data": {
      "image/png": "[encoded data removed]",
      "text/plain": [
       "<Figure size 1080x504 with 1 Axes>"
      ]
     },
     "metadata": {
      "needs_background": "light"
     },
     "output_type": "display_data"
    }
   ],
   "source": [
    "plt.figure(figsize=(15, 7))\n",
    "sns.boxplot(x = df['Brand'], y = df['Final Mrp'])"
   ]
  },
  {
   "cell_type": "markdown",
   "metadata": {},
   "source": [
    "**Observation** - The above plot show us the most expensive mobile phone. We can see that APPLE is havng highest cost of all the mobile phones listing on Paytm Mall website.And also Samsung,One plus,Redmi are having costly mobile phones"
   ]
  },
  {
   "cell_type": "code",
   "execution_count": 30,
   "metadata": {},
   "outputs": [
    {
     "data": {
      "text/plain": [
       "<AxesSubplot:xlabel='Final Mrp', ylabel='Density'>"
      ]
     },
     "execution_count": 30,
     "metadata": {},
     "output_type": "execute_result"
    },
    {
     "data": {
      "image/png": "[encoded data removed]",
      "text/plain": [
       "<Figure size 1080x504 with 1 Axes>"
      ]
     },
     "metadata": {
      "needs_background": "light"
     },
     "output_type": "display_data"
    }
   ],
   "source": [
    "plt.figure(figsize=(15, 7))\n",
    "sns.distplot(df['Final Mrp'])"
   ]
  },
  {
   "cell_type": "markdown",
   "metadata": {},
   "source": [
    "**Observation** - From the above plot we can see that more no of mobile phones can come under the range of 20000(Twenty thousand rupees).And ther are some outliers which can cost more than 140000(One lakh forty thousand rupees)"
   ]
  },
  {
   "cell_type": "code",
   "execution_count": 31,
   "metadata": {
    "scrolled": false
   },
   "outputs": [
    {
     "data": {
      "text/plain": [
       "<AxesSubplot:xlabel='Brand', ylabel='count'>"
      ]
     },
     "execution_count": 31,
     "metadata": {},
     "output_type": "execute_result"
    },
    {
     "data": {
      "image/png": "[encoded data removed]",
      "text/plain": [
       "<Figure size 1080x504 with 1 Axes>"
      ]
     },
     "metadata": {
      "needs_background": "light"
     },
     "output_type": "display_data"
    }
   ],
   "source": [
    "plt.figure(figsize=(15, 7))\n",
    "sns.countplot(df['Brand'])"
   ]
  },
  {
   "cell_type": "markdown",
   "metadata": {},
   "source": [
    " **Observation** - The above plot shows us that Samsung and Redmi are present more in number.When compared to other brand mobile phones in Paytm Mall website."
   ]
  },
  {
   "cell_type": "code",
   "execution_count": 32,
   "metadata": {
    "scrolled": true
   },
   "outputs": [
    {
     "data": {
      "text/plain": [
       "<AxesSubplot:xlabel='Total Price', ylabel='Discount %'>"
      ]
     },
     "execution_count": 32,
     "metadata": {},
     "output_type": "execute_result"
    },
    {
     "data": {
      "image/png": "[encoded data removed]",
      "text/plain": [
       "<Figure size 1080x504 with 1 Axes>"
      ]
     },
     "metadata": {
      "needs_background": "light"
     },
     "output_type": "display_data"
    }
   ],
   "source": [
    "plt.figure(figsize=(15, 7))\n",
    "sns.scatterplot(x = df['Total Price'], y = df['Discount %'])"
   ]
  },
  {
   "cell_type": "markdown",
   "metadata": {},
   "source": [
    "**Observation** - From the above plot we can see that mobile phones under 20,000 range are having more discounts.where as moderate discuonts are in between 20,000-40,000."
   ]
  },
  {
   "cell_type": "code",
   "execution_count": 33,
   "metadata": {},
   "outputs": [
    {
     "data": {
      "text/html": [
       "<div>\n",
       "<style scoped>\n",
       "    .dataframe tbody tr th:only-of-type {\n",
       "        vertical-align: middle;\n",
       "    }\n",
       "\n",
       "    .dataframe tbody tr th {\n",
       "        vertical-align: top;\n",
       "    }\n",
       "\n",
       "    .dataframe thead tr th {\n",
       "        text-align: left;\n",
       "    }\n",
       "\n",
       "    .dataframe thead tr:last-of-type th {\n",
       "        text-align: right;\n",
       "    }\n",
       "</style>\n",
       "<table border=\"1\" class=\"dataframe\">\n",
       "  <thead>\n",
       "    <tr>\n",
       "      <th></th>\n",
       "      <th colspan=\"3\" halign=\"left\">Final Mrp</th>\n",
       "    </tr>\n",
       "    <tr>\n",
       "      <th></th>\n",
       "      <th>min</th>\n",
       "      <th>max</th>\n",
       "      <th>mean</th>\n",
       "    </tr>\n",
       "    <tr>\n",
       "      <th>Brand</th>\n",
       "      <th></th>\n",
       "      <th></th>\n",
       "      <th></th>\n",
       "    </tr>\n",
       "  </thead>\n",
       "  <tbody>\n",
       "    <tr>\n",
       "      <th>Apple</th>\n",
       "      <td>52500.0</td>\n",
       "      <td>159900.0</td>\n",
       "      <td>86867.882353</td>\n",
       "    </tr>\n",
       "    <tr>\n",
       "      <th>Itel</th>\n",
       "      <td>8409.0</td>\n",
       "      <td>8409.0</td>\n",
       "      <td>8409.000000</td>\n",
       "    </tr>\n",
       "    <tr>\n",
       "      <th>Mi</th>\n",
       "      <td>18999.0</td>\n",
       "      <td>35999.0</td>\n",
       "      <td>28079.166667</td>\n",
       "    </tr>\n",
       "    <tr>\n",
       "      <th>Micromax</th>\n",
       "      <td>9699.0</td>\n",
       "      <td>9699.0</td>\n",
       "      <td>9699.000000</td>\n",
       "    </tr>\n",
       "    <tr>\n",
       "      <th>Motorola</th>\n",
       "      <td>19299.0</td>\n",
       "      <td>22999.0</td>\n",
       "      <td>21149.000000</td>\n",
       "    </tr>\n",
       "    <tr>\n",
       "      <th>Nokia</th>\n",
       "      <td>10999.0</td>\n",
       "      <td>15950.0</td>\n",
       "      <td>13230.750000</td>\n",
       "    </tr>\n",
       "    <tr>\n",
       "      <th>OPPO</th>\n",
       "      <td>11490.0</td>\n",
       "      <td>39980.0</td>\n",
       "      <td>18142.571429</td>\n",
       "    </tr>\n",
       "    <tr>\n",
       "      <th>OnePlus</th>\n",
       "      <td>42999.0</td>\n",
       "      <td>48999.0</td>\n",
       "      <td>45699.000000</td>\n",
       "    </tr>\n",
       "    <tr>\n",
       "      <th>Oppo</th>\n",
       "      <td>11490.0</td>\n",
       "      <td>23490.0</td>\n",
       "      <td>20073.333333</td>\n",
       "    </tr>\n",
       "    <tr>\n",
       "      <th>POCO</th>\n",
       "      <td>20500.0</td>\n",
       "      <td>20500.0</td>\n",
       "      <td>20500.000000</td>\n",
       "    </tr>\n",
       "    <tr>\n",
       "      <th>REALME</th>\n",
       "      <td>10999.0</td>\n",
       "      <td>10999.0</td>\n",
       "      <td>10999.000000</td>\n",
       "    </tr>\n",
       "    <tr>\n",
       "      <th>Realme</th>\n",
       "      <td>7769.0</td>\n",
       "      <td>34990.0</td>\n",
       "      <td>19281.210526</td>\n",
       "    </tr>\n",
       "    <tr>\n",
       "      <th>Redmi</th>\n",
       "      <td>7749.0</td>\n",
       "      <td>23999.0</td>\n",
       "      <td>15442.142857</td>\n",
       "    </tr>\n",
       "    <tr>\n",
       "      <th>Samsung</th>\n",
       "      <td>6999.0</td>\n",
       "      <td>75000.0</td>\n",
       "      <td>20570.415730</td>\n",
       "    </tr>\n",
       "    <tr>\n",
       "      <th>Tecno</th>\n",
       "      <td>8176.0</td>\n",
       "      <td>13499.0</td>\n",
       "      <td>10324.000000</td>\n",
       "    </tr>\n",
       "    <tr>\n",
       "      <th>ViVO</th>\n",
       "      <td>9490.0</td>\n",
       "      <td>9490.0</td>\n",
       "      <td>9490.000000</td>\n",
       "    </tr>\n",
       "    <tr>\n",
       "      <th>Vivo</th>\n",
       "      <td>9490.0</td>\n",
       "      <td>69990.0</td>\n",
       "      <td>21762.272727</td>\n",
       "    </tr>\n",
       "    <tr>\n",
       "      <th>YU</th>\n",
       "      <td>5999.0</td>\n",
       "      <td>5999.0</td>\n",
       "      <td>5999.000000</td>\n",
       "    </tr>\n",
       "    <tr>\n",
       "      <th>Yu</th>\n",
       "      <td>5499.0</td>\n",
       "      <td>5499.0</td>\n",
       "      <td>5499.000000</td>\n",
       "    </tr>\n",
       "    <tr>\n",
       "      <th>itel</th>\n",
       "      <td>4399.0</td>\n",
       "      <td>4499.0</td>\n",
       "      <td>4449.000000</td>\n",
       "    </tr>\n",
       "  </tbody>\n",
       "</table>\n",
       "</div>"
      ],
      "text/plain": [
       "         Final Mrp                        \n",
       "               min       max          mean\n",
       "Brand                                     \n",
       "Apple      52500.0  159900.0  86867.882353\n",
       "Itel        8409.0    8409.0   8409.000000\n",
       "Mi         18999.0   35999.0  28079.166667\n",
       "Micromax    9699.0    9699.0   9699.000000\n",
       "Motorola   19299.0   22999.0  21149.000000\n",
       "Nokia      10999.0   15950.0  13230.750000\n",
       "OPPO       11490.0   39980.0  18142.571429\n",
       "OnePlus    42999.0   48999.0  45699.000000\n",
       "Oppo       11490.0   23490.0  20073.333333\n",
       "POCO       20500.0   20500.0  20500.000000\n",
       "REALME     10999.0   10999.0  10999.000000\n",
       "Realme      7769.0   34990.0  19281.210526\n",
       "Redmi       7749.0   23999.0  15442.142857\n",
       "Samsung     6999.0   75000.0  20570.415730\n",
       "Tecno       8176.0   13499.0  10324.000000\n",
       "ViVO        9490.0    9490.0   9490.000000\n",
       "Vivo        9490.0   69990.0  21762.272727\n",
       "YU          5999.0    5999.0   5999.000000\n",
       "Yu          5499.0    5499.0   5499.000000\n",
       "itel        4399.0    4499.0   4449.000000"
      ]
     },
     "execution_count": 33,
     "metadata": {},
     "output_type": "execute_result"
    }
   ],
   "source": [
    "df.groupby(['Brand']).agg({'Final Mrp' : ['min', 'max', 'mean']})"
   ]
  },
  {
   "cell_type": "code",
   "execution_count": 34,
   "metadata": {},
   "outputs": [
    {
     "data": {
      "text/plain": [
       "<AxesSubplot:xlabel='Brand'>"
      ]
     },
     "execution_count": 34,
     "metadata": {},
     "output_type": "execute_result"
    },
    {
     "data": {
      "image/png": "[encoded data removed]",
      "text/plain": [
       "<Figure size 1080x504 with 1 Axes>"
      ]
     },
     "metadata": {
      "needs_background": "light"
     },
     "output_type": "display_data"
    }
   ],
   "source": [
    "plt.figure(figsize=(15, 7))\n",
    "df.groupby(['Brand'])['Final Mrp'].max().plot(kind = 'bar')"
   ]
  },
  {
   "cell_type": "markdown",
   "metadata": {},
   "source": [
    "**Observation** - The above plot shows the maximum price range of all brand mobiles available in the Paytm Mall website."
   ]
  },
  {
   "cell_type": "code",
   "execution_count": 35,
   "metadata": {
    "scrolled": true
   },
   "outputs": [
    {
     "data": {
      "text/plain": [
       "<AxesSubplot:xlabel='Brand'>"
      ]
     },
     "execution_count": 35,
     "metadata": {},
     "output_type": "execute_result"
    },
    {
     "data": {
      "image/png": "[encoded data removed]",
      "text/plain": [
       "<Figure size 1080x504 with 1 Axes>"
      ]
     },
     "metadata": {
      "needs_background": "light"
     },
     "output_type": "display_data"
    }
   ],
   "source": [
    "plt.figure(figsize=(15, 7))\n",
    "df.groupby(['Brand'])['Final Mrp'].min().plot(kind = 'bar')"
   ]
  },
  {
   "cell_type": "markdown",
   "metadata": {},
   "source": [
    "**Observation** - The above plot shows the minimum price range of mobiles on each brands available in paytm Mall website"
   ]
  },
  {
   "cell_type": "code",
   "execution_count": 36,
   "metadata": {},
   "outputs": [
    {
     "data": {
      "text/html": [
       "<div>\n",
       "<style scoped>\n",
       "    .dataframe tbody tr th:only-of-type {\n",
       "        vertical-align: middle;\n",
       "    }\n",
       "\n",
       "    .dataframe tbody tr th {\n",
       "        vertical-align: top;\n",
       "    }\n",
       "\n",
       "    .dataframe thead th {\n",
       "        text-align: right;\n",
       "    }\n",
       "</style>\n",
       "<table border=\"1\" class=\"dataframe\">\n",
       "  <thead>\n",
       "    <tr style=\"text-align: right;\">\n",
       "      <th></th>\n",
       "      <th>Final Mrp</th>\n",
       "      <th>Savings Amount</th>\n",
       "      <th>Total Price</th>\n",
       "      <th>Discount %</th>\n",
       "    </tr>\n",
       "  </thead>\n",
       "  <tbody>\n",
       "    <tr>\n",
       "      <th>Final Mrp</th>\n",
       "      <td>1.000000</td>\n",
       "      <td>NaN</td>\n",
       "      <td>0.980906</td>\n",
       "      <td>-0.062081</td>\n",
       "    </tr>\n",
       "    <tr>\n",
       "      <th>Savings Amount</th>\n",
       "      <td>NaN</td>\n",
       "      <td>NaN</td>\n",
       "      <td>NaN</td>\n",
       "      <td>NaN</td>\n",
       "    </tr>\n",
       "    <tr>\n",
       "      <th>Total Price</th>\n",
       "      <td>0.980906</td>\n",
       "      <td>NaN</td>\n",
       "      <td>1.000000</td>\n",
       "      <td>0.107617</td>\n",
       "    </tr>\n",
       "    <tr>\n",
       "      <th>Discount %</th>\n",
       "      <td>-0.062081</td>\n",
       "      <td>NaN</td>\n",
       "      <td>0.107617</td>\n",
       "      <td>1.000000</td>\n",
       "    </tr>\n",
       "  </tbody>\n",
       "</table>\n",
       "</div>"
      ],
      "text/plain": [
       "                Final Mrp  Savings Amount  Total Price  Discount %\n",
       "Final Mrp        1.000000             NaN     0.980906   -0.062081\n",
       "Savings Amount        NaN             NaN          NaN         NaN\n",
       "Total Price      0.980906             NaN     1.000000    0.107617\n",
       "Discount %      -0.062081             NaN     0.107617    1.000000"
      ]
     },
     "execution_count": 36,
     "metadata": {},
     "output_type": "execute_result"
    }
   ],
   "source": [
    "df.corr()"
   ]
  },
  {
   "cell_type": "code",
   "execution_count": 37,
   "metadata": {},
   "outputs": [
    {
     "data": {
      "image/png": "[encoded data removed]",
      "text/plain": [
       "<Figure size 432x288 with 2 Axes>"
      ]
     },
     "metadata": {
      "needs_background": "light"
     },
     "output_type": "display_data"
    }
   ],
   "source": [
    "sns.heatmap(df.corr(),linecolor='green',linewidths=2);"
   ]
  },
  {
   "cell_type": "markdown",
   "metadata": {},
   "source": [
    "**Observation** - From the above graph we can understand the correlation among Final Mrp, Savings Amount, Total Price, Discount %"
   ]
  },
  {
   "cell_type": "code",
   "execution_count": 38,
   "metadata": {},
   "outputs": [
    {
     "data": {
      "image/png": "[encoded data removed]",
      "text/plain": [
       "<Figure size 432x288 with 2 Axes>"
      ]
     },
     "metadata": {
      "needs_background": "light"
     },
     "output_type": "display_data"
    }
   ],
   "source": [
    "sns.heatmap(df.corr(),linecolor='blue',linewidths=2,annot=True);"
   ]
  },
  {
   "cell_type": "markdown",
   "metadata": {},
   "source": [
    "**Observation** - The above graph shows the data value of each cell"
   ]
  },
  {
   "cell_type": "code",
   "execution_count": 39,
   "metadata": {
    "scrolled": true
   },
   "outputs": [
    {
     "data": {
      "image/png": "[encoded data removed]",
      "text/plain": [
       "<Figure size 720x720 with 20 Axes>"
      ]
     },
     "metadata": {
      "needs_background": "light"
     },
     "output_type": "display_data"
    }
   ],
   "source": [
    "sns.pairplot(df);"
   ]
  },
  {
   "cell_type": "markdown",
   "metadata": {},
   "source": [
    "**Observation** - The above pairplot gives the clear details about Total price, Savings Amount, Discount % and Final Mrp\n",
    "and from here we can know the ranges clearly."
   ]
  },
  {
   "cell_type": "markdown",
   "metadata": {},
   "source": [
    "## Conclusion\n",
    "\n",
    "- From the above details taken from Paytm Mall website we can say that all the features of the obile phones.and we can determine the price ranges of all the mobile phones\n",
    "- We can also extract the how many no of mobile phone selling Brands\n",
    "- We can also see the discounts given by paytm on different mobiles\n",
    "- By using above data we can select a good mobile within our price range from Paytm Mall website"
   ]
  },
  {
   "cell_type": "code",
   "execution_count": null,
   "metadata": {},
   "outputs": [],
   "source": []
  }
 ],
 "metadata": {
  "kernelspec": {
   "display_name": "Python 3",
   "language": "python",
   "name": "python3"
  },
  "language_info": {
   "codemirror_mode": {
    "name": "ipython",
    "version": 3
   },
   "file_extension": ".py",
   "mimetype": "text/x-python",
   "name": "python",
   "nbconvert_exporter": "python",
   "pygments_lexer": "ipython3",
   "version": "3.8.5"
  }
 },
 "nbformat": 4,
 "nbformat_minor": 4
}
